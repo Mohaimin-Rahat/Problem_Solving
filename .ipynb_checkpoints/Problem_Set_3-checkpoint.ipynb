{
 "cells": [
  {
   "cell_type": "markdown",
   "metadata": {},
   "source": [
    "1.Read 3 double numbers (A, B and C) representing the sides of a triangle and arrange them in decreasing order, so that the side A is the biggest of the three sides. Next, determine the type of triangle that they can make, based on the following cases always writing an appropriate message:\n",
    "if A ≥ B + C, write the message: NAO FORMA TRIANGULO\n",
    "if A2 = B2 + C2, write the message: TRIANGULO RETANGULO\n",
    "if A2 > B2 + C2, write the message: TRIANGULO OBTUSANGULO\n",
    "if A2 < B2 + C2, write the message: TRIANGULO ACUTANGULO\n",
    "if the three sides are the same size, write the message: TRIANGULO EQUILATERO\n",
    "if only two sides are the same and the third one is different, write the message: TRIANGULO ISOSCELES"
   ]
  },
  {
   "cell_type": "code",
   "execution_count": 9,
   "metadata": {},
   "outputs": [
    {
     "name": "stdout",
     "output_type": "stream",
     "text": [
      "6.0 8.0 10.0\n",
      "TRIANGULO RETANGULO\n"
     ]
    }
   ],
   "source": [
    "x=input()\n",
    "a,b,c=x.split(\" \")\n",
    "a=float(a)\n",
    "b=float(b)\n",
    "c=float(c)\n",
    "\n",
    "if(a<b):\n",
    "    temp=a\n",
    "    a=b\n",
    "    b=temp\n",
    "if(b<c):\n",
    "    temp=b\n",
    "    b=c\n",
    "    c=temp\n",
    "if(a<b):\n",
    "    temp=a\n",
    "    a=b\n",
    "    b=temp\n",
    "if(a >= b + c):\n",
    "    print(\"NAO FORMA TRIANGULO\")\n",
    "elif(a*a == (b*b + c*c)):\n",
    "    print(\"TRIANGULO RETANGULO\")\n",
    "elif(a*a > (b*b + c*c)):\n",
    "    print(\"TRIANGULO OBTUSANGULO\")\n",
    "elif(a*a < (b*b + c*c)):\n",
    "    print(\"TRIANGULO ACUTANGULO\")\n",
    "if(a==b==c):\n",
    "    print(\"TRIANGULO EQUILATERO\")\n",
    "elif(a==b or b==c):\n",
    "    print(\"TRIANGULO ISOSCELES\")"
   ]
  },
  {
   "cell_type": "markdown",
   "metadata": {},
   "source": [
    "2.Read the start time and end time of a game, in hours. Then calculate the duration of the game, knowing that the game can begin in a day and finish in another day, with a maximum duration of 24 hours. The message must be printed in portuguese “O JOGO DUROU X HORA(S)” that means “THE GAME LASTED X HOUR(S)”"
   ]
  },
  {
   "cell_type": "code",
   "execution_count": 14,
   "metadata": {},
   "outputs": [
    {
     "name": "stdout",
     "output_type": "stream",
     "text": [
      "2 16\n",
      "O JOGO DUROU 14 HORA(S)\n"
     ]
    }
   ],
   "source": [
    "x=input()\n",
    "a,b=x.split(\" \")\n",
    "a=int(a)\n",
    "b=int(b)\n",
    "\n",
    "if(a<b):\n",
    "    t=b-a\n",
    "    print(\"O JOGO DUROU %d HORA(S)\"%t)\n",
    "else:\n",
    "    t=(b+24)-a\n",
    "    print(\"O JOGO DUROU %d HORA(S)\"%t)"
   ]
  },
  {
   "cell_type": "markdown",
   "metadata": {},
   "source": [
    "3.Read the start time and end time of a game, in hours and minutes (initial hour, initial minute, final hour, final minute). Then print the duration of the game, knowing that the game can begin in a day and finish in another day,\n",
    "\n",
    "Obs.: With a maximum game time of 24 hours and the minimum game time of 1 minute."
   ]
  },
  {
   "cell_type": "code",
   "execution_count": 32,
   "metadata": {},
   "outputs": [
    {
     "name": "stdout",
     "output_type": "stream",
     "text": [
      "7 10 8 9\n",
      "O JOGO DUROU 0 HORA(S)\n",
      "O JOGO DUROU 59 MINUTO(S)\n"
     ]
    }
   ],
   "source": [
    "x=input()\n",
    "sh,sm,eh,em=x.split(\" \")\n",
    "sh=int(sh)\n",
    "eh=int(eh)\n",
    "sm=int(sm)\n",
    "em=int(em)\n",
    "\n",
    "if(sh<eh):\n",
    "    th=eh-sh\n",
    "    if (th==1):\n",
    "        print(\"O JOGO DUROU 0 HORA(S)\")\n",
    "    else:\n",
    "        print(\"O JOGO DUROU %d HORA(S)\"%th)\n",
    "else:\n",
    "    th=(eh+24)-sh\n",
    "    print(\"O JOGO DUROU %d HORA(S)\"%th)\n",
    "if(sm<em):\n",
    "    tm=em-sm\n",
    "    print(\"O JOGO DUROU %d MINUTO(S)\"%tm)\n",
    "else:\n",
    "    if (sm==em):\n",
    "        tm=0\n",
    "        print(\"O JOGO DUROU %d MINUTO(S)\"%tm)\n",
    "    else:\n",
    "        tm=(60-sm)+em\n",
    "        print(\"O JOGO DUROU %d MINUTO(S)\"%tm)"
   ]
  },
  {
   "cell_type": "markdown",
   "metadata": {},
   "source": [
    "4.Salary Increase"
   ]
  },
  {
   "cell_type": "code",
   "execution_count": 40,
   "metadata": {},
   "outputs": [
    {
     "name": "stdout",
     "output_type": "stream",
     "text": [
      "400\n",
      "New Salary:2300.00\n",
      "Money earned:300.00\n",
      "In percentage: 15 %\n"
     ]
    }
   ],
   "source": [
    "a=input()\n",
    "a=float(a)\n",
    "\n",
    "if (a>=0 and a<=400):\n",
    "    earn=a*0.15\n",
    "    total=a+earn\n",
    "    print(\"New Salary:%0.2f\"%total)\n",
    "    print(\"Money earned:%0.2f\"%earn)\n",
    "    print(\"In percentage: 15 %\")\n",
    "elif (a>=400.01 and a<=800.00):\n",
    "    earn=a*0.12\n",
    "    total=a+earn\n",
    "    print(\"New Salary:%0.2f\"%total)\n",
    "    print(\"Money earned:%0.2f\"%earn)\n",
    "    print(\"In percentage: 12 %\")\n",
    "elif (a>=800.01 and a<=1200.00):\n",
    "    earn=a*0.1\n",
    "    total=a+earn\n",
    "    print(\"New Salary:%0.2f\"%total)\n",
    "    print(\"Money earned:%0.2f\"%earn)\n",
    "    print(\"In percentage: 10 %\")\n",
    "elif (a>=1200.01 and a<=2000.00):\n",
    "    earn=a*0.07\n",
    "    total=a+earn\n",
    "    print(\"New Salary:%0.2f\"%total)\n",
    "    print(\"Money earned:%0.2f\"%earn)\n",
    "    print(\"In percentage: 7 %\")\n",
    "elif a>=2000.01:\n",
    "    earn=a*0.04\n",
    "    total=a+earn\n",
    "    print(\"New Salary:%0.2f\"%total)\n",
    "    print(\"Money earned:%0.2f\"%earn)\n",
    "    print(\"In percentage: 4 %\")\n",
    "   \n",
    "    "
   ]
  },
  {
   "cell_type": "markdown",
   "metadata": {},
   "source": [
    "5.Animal"
   ]
  },
  {
   "cell_type": "code",
   "execution_count": 47,
   "metadata": {},
   "outputs": [
    {
     "name": "stdout",
     "output_type": "stream",
     "text": [
      "invertebrado\n",
      "inseto\n",
      "hematofago\n",
      "pulga\n"
     ]
    }
   ],
   "source": [
    "x = input()\n",
    "y = input()\n",
    "z = input()\n",
    "\n",
    "if x == 'vertebrado' and y == 'ave' and z == 'carnivoro':\n",
    "    print(\"aguia\")\n",
    "if x == 'vertebrado' and y == 'ave' and z == 'onivoro':\n",
    "    print(\"pomba\")\n",
    "\n",
    "if x == 'vertebrado' and y == 'mamifero' and z == 'onivoro':\n",
    "    print(\"homem\")\n",
    "\n",
    "if x == 'vertebrado' and y == 'mamifero' and z == 'herbivoro':\n",
    "    print(\"vaca\")\n",
    "\n",
    "if x == 'invertebrado' and y == 'inseto' and z == 'hematofago':\n",
    "    print(\"pulga\")\n",
    "\n",
    "if x == 'invertebrado' and y == 'inseto' and z == 'herbivoro':\n",
    "    print(\"lagarta\")\n",
    "\n",
    "if x == 'invertebrado' and y == 'anelideo' and z == 'hematofago':\n",
    "    print(\"sanguessuga\")\n",
    "\n",
    "if x == 'invertebrado' and y == 'anelideo' and z == 'onivoro':\n",
    "    print(\"minhoca\")\n",
    "\n"
   ]
  },
  {
   "cell_type": "markdown",
   "metadata": {},
   "source": [
    "6.DDD:Dial Code"
   ]
  },
  {
   "cell_type": "code",
   "execution_count": 48,
   "metadata": {},
   "outputs": [
    {
     "name": "stdout",
     "output_type": "stream",
     "text": [
      "32\n",
      "Juiz de Fora\n"
     ]
    }
   ],
   "source": [
    "a=int(input())\n",
    "if a==61:\n",
    "    print(\"Brasilia\")\n",
    "elif a==71:\n",
    "    print(\"Salvador\")\n",
    "elif a==11:\n",
    "    print(\"Sao Paulo\")\n",
    "elif a==21:\n",
    "    print(\"Rio de Janeiro\")\n",
    "elif a==32:\n",
    "    print(\"Juiz de Fora\")\n",
    "elif a==19:\n",
    "    print(\"Campinas\")\n",
    "elif a==27:\n",
    "    print(\"Vitoria\")\n",
    "elif a==31:\n",
    "    print(\"Belo Horizonte\")\n",
    "else:\n",
    "    print(\"DDD nao cadastrado\")"
   ]
  },
  {
   "cell_type": "markdown",
   "metadata": {},
   "source": [
    "7.Taxes"
   ]
  },
  {
   "cell_type": "code",
   "execution_count": 50,
   "metadata": {},
   "outputs": [
    {
     "name": "stdout",
     "output_type": "stream",
     "text": [
      "3002.00\n",
      "R$ 540.36\n"
     ]
    }
   ],
   "source": [
    "x=float(input())\n",
    "\n",
    "if (x>=0.00 and x<=2000.00):\n",
    "    print(\"Isento\")\n",
    "elif (x>=2000.01 and x<=3000.00):\n",
    "    value=x*0.08\n",
    "    print(\"R$ %0.2f\"%value)\n",
    "elif (x>=3000.01 and x<=4500.00):\n",
    "    value=x*0.18\n",
    "    print(\"R$ %0.2f\"%value)\n",
    "elif x>4500.00:\n",
    "    value=x*0.28\n",
    "    print(\"R$ %0.2f\"%value)"
   ]
  },
  {
   "cell_type": "markdown",
   "metadata": {},
   "source": [
    "8.Month:Read an integer number between 1 and 12, including. Corresponding to this number, you must print the month of the year, in english, with the first letter in uppercase."
   ]
  },
  {
   "cell_type": "code",
   "execution_count": 51,
   "metadata": {},
   "outputs": [
    {
     "name": "stdout",
     "output_type": "stream",
     "text": [
      "7\n",
      "July\n"
     ]
    }
   ],
   "source": [
    "x=int(input())\n",
    "if(x==1):\n",
    "    print(\"January\")\n",
    "elif(x==2):\n",
    "    print(\"February\")\n",
    "elif(x==3):\n",
    "    print(\"March\")\n",
    "elif(x==4):\n",
    "    print(\"April\")\n",
    "elif(x==5):\n",
    "    print(\"May\")\n",
    "elif(x==6):\n",
    "    print(\"June\")\n",
    "elif(x==7):\n",
    "    print(\"July\")\n",
    "elif(x==8):\n",
    "    print(\"August\")\n",
    "elif(x==9):\n",
    "    print(\"September\")\n",
    "elif(x==10):\n",
    "    print(\"October\")\n",
    "elif(x==11):\n",
    "    print(\"November\")\n",
    "elif(x==12):\n",
    "    print(\"December\")"
   ]
  },
  {
   "cell_type": "markdown",
   "metadata": {},
   "source": [
    "9.Even Numbers:Write a program that prints all even numbers between 1 and 100"
   ]
  },
  {
   "cell_type": "code",
   "execution_count": 53,
   "metadata": {
    "collapsed": true
   },
   "outputs": [
    {
     "name": "stdout",
     "output_type": "stream",
     "text": [
      "2\n",
      "4\n",
      "6\n",
      "8\n",
      "10\n",
      "12\n",
      "14\n",
      "16\n",
      "18\n",
      "20\n",
      "22\n",
      "24\n",
      "26\n",
      "28\n",
      "30\n",
      "32\n",
      "34\n",
      "36\n",
      "38\n",
      "40\n",
      "42\n",
      "44\n",
      "46\n",
      "48\n",
      "50\n",
      "52\n",
      "54\n",
      "56\n",
      "58\n",
      "60\n",
      "62\n",
      "64\n",
      "66\n",
      "68\n",
      "70\n",
      "72\n",
      "74\n",
      "76\n",
      "78\n",
      "80\n",
      "82\n",
      "84\n",
      "86\n",
      "88\n",
      "90\n",
      "92\n",
      "94\n",
      "96\n",
      "98\n",
      "100\n"
     ]
    }
   ],
   "source": [
    "i=2\n",
    "while i<=100:\n",
    "    print(i)\n",
    "    i+=2"
   ]
  },
  {
   "cell_type": "markdown",
   "metadata": {},
   "source": [
    "10.Positive Numbers"
   ]
  },
  {
   "cell_type": "code",
   "execution_count": 64,
   "metadata": {},
   "outputs": [
    {
     "name": "stdout",
     "output_type": "stream",
     "text": [
      "-10\n",
      "8\n",
      "-7\n",
      "5\n",
      "4\n",
      "3\n",
      "4 valores positivos\n"
     ]
    }
   ],
   "source": [
    "count = 0\n",
    "i=0\n",
    "while i<=5:\n",
    "    x = float(input())\n",
    "    i+=1\n",
    "    if(x>=0):\n",
    "        count+=1\n",
    "        \n",
    "    \n",
    "print(\"%d valores positivos\"%count)"
   ]
  },
  {
   "cell_type": "markdown",
   "metadata": {},
   "source": [
    "11.Event Time :Peter is organizing an event in his University. The event will be in April month, beginning and finishing within April month. The problem is: Peter wants to calculate the event duration in seconds, knowing obviously the begin and the end time of the event.\n",
    "\n",
    "You know that the event can take from few seconds to some days, so, you must help Peter to compute the total time corresponding to duration of the event."
   ]
  },
  {
   "cell_type": "code",
   "execution_count": 101,
   "metadata": {},
   "outputs": [
    {
     "name": "stdout",
     "output_type": "stream",
     "text": [
      "Dia 5\n",
      "08 : 12 : 23\n",
      "Dia 9\n",
      "06 : 13 : 23\n",
      "3 dia(s)\n",
      "22 hora(s)\n",
      "1 minuto(s)\n",
      "0 psegundo(s)\n"
     ]
    }
   ],
   "source": [
    "x=input()\n",
    "y,day1=x.split(\" \")\n",
    "day1=int(day1)\n",
    "z1=input()\n",
    "h1,m1,s1=z1.split(\" : \")\n",
    "h1=int(h1)\n",
    "m1=int(m1)\n",
    "s1=int(s1)\n",
    "\n",
    "x=input()\n",
    "y,day2=x.split(\" \")\n",
    "day2=int(day2)\n",
    "z2=input()\n",
    "h2,m2,s2=z2.split(\" : \")\n",
    "h2=int(h2)\n",
    "m2=int(m2)\n",
    "s2=int(s2)\n",
    "\n",
    "s = s2 - s1\n",
    "m = m2 - m1\n",
    "h = h2 - h1\n",
    "day = day2 - day1\n",
    "\n",
    "if(s<0):\n",
    "    s=s+60\n",
    "    m=m-1\n",
    "\n",
    "\n",
    "if(m<0):\n",
    "    m=m+60\n",
    "    h=h-1\n",
    "\n",
    "if(h<0):\n",
    "    h=h+24\n",
    "    day=day-1\n",
    "    \n",
    "print(\"%d dia(s)\"%day)\n",
    "print(\"%d hora(s)\"%h)\n",
    "print(\"%d minuto(s)\"%m)\n",
    "print(\"%d psegundo(s)\"%s)"
   ]
  },
  {
   "cell_type": "code",
   "execution_count": null,
   "metadata": {},
   "outputs": [],
   "source": []
  }
 ],
 "metadata": {
  "kernelspec": {
   "display_name": "Python 3",
   "language": "python",
   "name": "python3"
  },
  "language_info": {
   "codemirror_mode": {
    "name": "ipython",
    "version": 3
   },
   "file_extension": ".py",
   "mimetype": "text/x-python",
   "name": "python",
   "nbconvert_exporter": "python",
   "pygments_lexer": "ipython3",
   "version": "3.8.3"
  }
 },
 "nbformat": 4,
 "nbformat_minor": 4
}
