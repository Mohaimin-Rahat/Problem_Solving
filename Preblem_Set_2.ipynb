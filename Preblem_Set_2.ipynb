{
 "cells": [
  {
   "cell_type": "markdown",
   "metadata": {},
   "source": [
    "1.Read an integer value corresponding to a person's age (in days) and print it in years, months and days, followed by its respective message “ano(s)”, “mes(es)”, “dia(s)”.\n",
    "\n",
    "Note: only to facilitate the calculation, consider the whole year with 365 days and 30 days every month. In the cases of test there will never be a situation that allows 12 months and some days, like 360, 363 or 364. This is just an exercise for the purpose of testing simple mathematical reasoning."
   ]
  },
  {
   "cell_type": "code",
   "execution_count": 1,
   "metadata": {},
   "outputs": [
    {
     "name": "stdout",
     "output_type": "stream",
     "text": [
      "400\n",
      "1 ano(s) 1 mes(es) 5 dia(s)\n"
     ]
    }
   ],
   "source": [
    "days=int(input())\n",
    "\n",
    "y=int(days/365)\n",
    "y_remain=int(days%365)\n",
    "m=int(y_remain/30)\n",
    "m_remain=int(y_remain%30)\n",
    "d_remain=int(m_remain%30)\n",
    "\n",
    "print(y,\"ano(s)\",m,\"mes(es)\",d_remain,\"dia(s)\")"
   ]
  },
  {
   "cell_type": "markdown",
   "metadata": {},
   "source": [
    "2.Read a value of floating point with two decimal places. This represents a monetary value. After this, calculate the smallest possible number of notes and coins on which the value can be decomposed. The considered notes are of 100, 50, 20, 10, 5, 2. The possible coins are of 1, 0.50, 0.25, 0.10, 0.05 and 0.01. Print the message “NOTAS:” followed by the list of notes and the message “MOEDAS:” followed by the list of coins."
   ]
  },
  {
   "cell_type": "code",
   "execution_count": 2,
   "metadata": {},
   "outputs": [
    {
     "name": "stdout",
     "output_type": "stream",
     "text": [
      "91.01\n",
      "NOTAS:\n",
      "0 nota(s) de R$ 100.00\n",
      "1 nota(s) de R$ 50.00\n",
      "2 nota(s) de R$ 20.00\n",
      "0 nota(s) de R$ 10.00\n",
      "0 nota(s) de R$ 5.00\n",
      "0 nota(s) de R$ 2.00\n",
      "MOEDAS:\n",
      "1 moeda(s) de R$ 1.00\n",
      "0 moeda(s) de R$ 0.50\n",
      "0 moeda(s) de R$ 0.25\n",
      "0 moeda(s) de R$ 0.10\n",
      "0 moeda(s) de R$ 0.05\n",
      "1 moeda(s) de R$ 0.01\n"
     ]
    }
   ],
   "source": [
    "note=float(input())\n",
    "value=note/100\n",
    "remaining=note%100\n",
    "print(\"NOTAS:\")\n",
    "print(\"%d nota(s) de R$ 100.00\"%value)\n",
    "value=remaining/50\n",
    "remaining=remaining%50\n",
    "print(\"%d nota(s) de R$ 50.00\"%value)\n",
    "value=remaining/20\n",
    "remaining=remaining%20\n",
    "print(\"%d nota(s) de R$ 20.00\"%value)\n",
    "value=remaining/10\n",
    "remaining=remaining%10\n",
    "print(\"%d nota(s) de R$ 10.00\"%value)\n",
    "value=remaining/5\n",
    "remaining=remaining%5\n",
    "print(\"%d nota(s) de R$ 5.00\"%value)\n",
    "value=remaining/2\n",
    "remaining=remaining%2\n",
    "print(\"%d nota(s) de R$ 2.00\"%value)\n",
    "\n",
    "print(\"MOEDAS:\")\n",
    "value=remaining/1\n",
    "remaining=remaining%1\n",
    "print(\"%d moeda(s) de R$ 1.00\"%value)\n",
    "value=remaining/.50\n",
    "remaining=remaining%.50\n",
    "print(\"%d moeda(s) de R$ 0.50\"%value)\n",
    "value=remaining/.25\n",
    "remaining=remaining%.25\n",
    "print(\"%d moeda(s) de R$ 0.25\"%value)\n",
    "value=remaining/.10\n",
    "remaining=remaining%.10\n",
    "print(\"%d moeda(s) de R$ 0.10\"%value)\n",
    "value=remaining/.05\n",
    "remaining=remaining%.05\n",
    "print(\"%d moeda(s) de R$ 0.05\"%value)\n",
    "value=remaining/.01\n",
    "remaining=remaining%.01\n",
    "print(\"%d moeda(s) de R$ 0.01\"%value)"
   ]
  },
  {
   "cell_type": "markdown",
   "metadata": {},
   "source": [
    "3.Read 4 integer values A, B, C and D. Then if B is greater than C and D is greater than A and if the sum of C and D is greater than the sum of A and B and if C and D were positives values and if A is even, write the message “Valores aceitos” (Accepted values). Otherwise, write the message “Valores nao aceitos” (Values not accepted)."
   ]
  },
  {
   "cell_type": "code",
   "execution_count": 3,
   "metadata": {},
   "outputs": [
    {
     "name": "stdout",
     "output_type": "stream",
     "text": [
      "5 6 7 8\n",
      "Valores nao aceitos\n"
     ]
    }
   ],
   "source": [
    "x=input()\n",
    "a,b,c,d = x.split(\" \")\n",
    "a=int(a)\n",
    "b=int(b)\n",
    "c=int(c)\n",
    "d=int(d)\n",
    "\n",
    "\n",
    "if b>c and d>a and (c+d) > (a+b) and c>0 and d>0 and a%2 ==0:\n",
    "    print( \"Valores aceitos\")\n",
    "else:\n",
    "    print(\"Valores nao aceitos\")"
   ]
  },
  {
   "cell_type": "markdown",
   "metadata": {},
   "source": [
    "4.Read 3 floating-point numbers. After, print the roots of bhaskara’s formula. If it's impossible to calculate the roots because a division by zero or a square root of a negative number, presents the message “Impossivel calcular”."
   ]
  },
  {
   "cell_type": "code",
   "execution_count": 4,
   "metadata": {},
   "outputs": [
    {
     "name": "stdout",
     "output_type": "stream",
     "text": [
      "10.3 203.0 5.0\n",
      "R1 = -0.02466\n",
      "R1 = -19.68408\n"
     ]
    }
   ],
   "source": [
    "import math\n",
    "x=input()\n",
    "a,b,c = x.split(\" \")\n",
    "a=float(a)\n",
    "b=float(b)\n",
    "c=float(c)\n",
    "\n",
    "D = float((b**2)-(4*a*c))\n",
    "if(D <0 or a==0):\n",
    "    print(\"Impossivel calcular\")\n",
    "else:\n",
    "    D=math.sqrt(D)\n",
    "    R1 = (-b+D)/(2*a)\n",
    "    R2 = (-b-D)/(2*a)\n",
    "    print(\"R1 = %0.5f\"%R1)\n",
    "    print(\"R1 = %0.5f\"%R2)"
   ]
  },
  {
   "cell_type": "markdown",
   "metadata": {},
   "source": [
    "5.You must make a program that read a float-point number and print a message saying in which of following intervals the number belongs: [0,25] (25,50], (50,75], (75,100]. If the read number is less than zero or greather than 100, the program must print the message “Fora de intervalo” that means \"Out of Interval\"."
   ]
  },
  {
   "cell_type": "code",
   "execution_count": 5,
   "metadata": {},
   "outputs": [
    {
     "name": "stdout",
     "output_type": "stream",
     "text": [
      "100.00\n",
      "Intervalo (75,100]\n"
     ]
    }
   ],
   "source": [
    "x=float(input())\n",
    "\n",
    "if x>=0 and x<=25:\n",
    "    print(\"Intervalo [0,25]\")\n",
    "elif x>25 and x<=50:\n",
    "    print(\"Intervalo (25,50]\")\n",
    "elif x>50 and x<=75:\n",
    "    print(\"Intervalo (50,75]\")\n",
    "elif x>75 and x<=100:\n",
    "    print(\"Intervalo (75,100]\")\n",
    "else:\n",
    "    print(\"Fora de intervalo\")"
   ]
  },
  {
   "cell_type": "markdown",
   "metadata": {},
   "source": [
    "6.Using the following table, write a program that reads a code and the amount of an item. After, print the value to pay. This is a very simple program with the only intention of practice of selection commands."
   ]
  },
  {
   "cell_type": "code",
   "execution_count": 6,
   "metadata": {},
   "outputs": [
    {
     "name": "stdout",
     "output_type": "stream",
     "text": [
      "1 1\n",
      "Total: R$ 4.00\n"
     ]
    }
   ],
   "source": [
    "x=input()\n",
    "\n",
    "a,b=x.split(\" \")\n",
    "\n",
    "a=int(a)\n",
    "b=int(b)\n",
    "\n",
    "if a==1:\n",
    "    val=float(b*4.00)\n",
    "    print(\"Total: R$ %0.2f\"%val)\n",
    "elif a==2:\n",
    "    val=float(b*4.50)\n",
    "    print(\"Total: R$ %0.2f\"%val)\n",
    "elif a==3:\n",
    "    val=float(b*5.00)\n",
    "    print(\"Total: R$ %0.2f\"%val)\n",
    "elif a==4:\n",
    "    val=float(b*2.00)\n",
    "    print(\"Total: R$ %0.2f\"%val)\n",
    "else:\n",
    "    val=float(b*4.00)\n",
    "    print(\"Total: R$ %0.2f\"%val)"
   ]
  },
  {
   "cell_type": "markdown",
   "metadata": {},
   "source": [
    "7.Read four numbers (N1, N2, N3, N4), which one with 1 digit after the decimal point, corresponding to 4 scores obtained by a student. Calculate the average with weights 2, 3, 4 e 1 respectively, for these 4 scores and print the message \"Media: \" (Average), followed by the calculated result. If the average was 7.0 or more, print the message \"Aluno aprovado.\" (Approved Student). If the average was less than 5.0, print the message: \"Aluno reprovado.\" (Reproved Student). If the average was between 5.0 and 6.9, including these, the program must print the message \"Aluno em exame.\" (In exam student).\n",
    "\n",
    "In case of exam, read one more score. Print the message \"Nota do exame: \" (Exam score) followed by the typed score. Recalculate the average (sum the exam score with the previous calculated average and divide by 2) and print the message “Aluno aprovado.” (Approved student) in case of average 5.0 or more) or \"Aluno reprovado.\" (Reproved student) in case of average 4.9 or less. For these 2 cases (approved or reproved after the exam) print the message \"Media final: \" (Final average) followed by the final average for this student in the last line."
   ]
  },
  {
   "cell_type": "code",
   "execution_count": 7,
   "metadata": {},
   "outputs": [
    {
     "name": "stdout",
     "output_type": "stream",
     "text": [
      "2.0 6.5 4.0 9.0\n",
      "Media: 5.4\n",
      "Aluno em exame.\n",
      "6.4\n",
      "Nota do exame:  6.4\n",
      "Aluno aprovado.\n",
      "Media final:5.9\n"
     ]
    }
   ],
   "source": [
    "x=input()\n",
    "n1,n2,n3,n4=x.split(\" \")\n",
    "n1=float(n1)\n",
    "n2=float(n2)\n",
    "n3=float(n3)\n",
    "n4=float(n4)\n",
    "\n",
    "aver=(n1+n2+n3+n4)/4\n",
    "print(\"Media: %0.1f\"%aver)\n",
    "\n",
    "if aver>=7.0:\n",
    "    print(\"Aluno aprovado.\")\n",
    "elif aver <5.0:\n",
    "    print(\"Aluno reprovado.\")        \n",
    "elif aver>=5.0 and aver <=6.9:\n",
    "    print(\"Aluno em exame.\")\n",
    "    y=input()\n",
    "    y=float(y)\n",
    "    print(\"Nota do exame: \",y)\n",
    "\n",
    "    average=(aver+y)/2\n",
    "\n",
    "    if average>=5.0:\n",
    "        print(\"Aluno aprovado.\")\n",
    "    else:\n",
    "        print(\"Aluno reprovado.\")\n",
    "    \n",
    "    print(\"Media final:%0.1f\"%average)"
   ]
  },
  {
   "cell_type": "markdown",
   "metadata": {},
   "source": [
    "8.Write an algorithm that reads two floating values (x and y), which should represent the coordinates of a point in a plane. Next, determine which quadrant the point belongs, or if you are at one of the Cartesian axes or the origin (x = y =0)"
   ]
  },
  {
   "cell_type": "code",
   "execution_count": 8,
   "metadata": {},
   "outputs": [
    {
     "name": "stdout",
     "output_type": "stream",
     "text": [
      "1.0 2.0\n",
      "Q1\n"
     ]
    }
   ],
   "source": [
    "a=input()\n",
    "X,Y=a.split(\" \")\n",
    "X=float(X)\n",
    "Y=float(Y)\n",
    "if(X==0 and Y==0):\n",
    "    print(\"Origem\")\n",
    "elif(X==0):\n",
    "    print(\"Eixo Y\")\n",
    "elif(Y==0):\n",
    "    print(\"Eixo X\")\n",
    "elif(X>0 and Y>0):\n",
    "    print(\"Q1\")\n",
    "elif(X<0 and Y>0):\n",
    "    print(\"Q2\")\n",
    "elif(X<0 and Y<0):\n",
    "    print(\"Q3\")\n",
    "elif(X>0 and Y<0):\n",
    "    print(\"Q4\")"
   ]
  },
  {
   "cell_type": "markdown",
   "metadata": {},
   "source": [
    "9.Read three integers and sort them in ascending order. After, print these values in ascending order, a blank line and then the values in the sequence as they were readed."
   ]
  },
  {
   "cell_type": "code",
   "execution_count": 10,
   "metadata": {},
   "outputs": [
    {
     "name": "stdout",
     "output_type": "stream",
     "text": [
      "9 1 -14\n",
      "-14\n",
      "1\n",
      "9\n"
     ]
    }
   ],
   "source": [
    "x=input()\n",
    "a,b,c=x.split(\" \")\n",
    "a=int(a)\n",
    "b=int(b)\n",
    "c=int(c)\n",
    "list=[a,b,c]\n",
    "list.sort()\n",
    "print(list[0])\n",
    "print(list[1])\n",
    "print(list[2])"
   ]
  },
  {
   "cell_type": "markdown",
   "metadata": {},
   "source": [
    "10.Read three point floating values (A, B and C) and verify if is possible to make a triangle with them. If it is possible, calculate the perimeter of the triangle and print the message:\n",
    "\n",
    "\n",
    "Perimetro = XX.X\n",
    "\n",
    "\n",
    "If it is not possible, calculate the area of the trapezium which basis A and B and C as height, and print the message:\n",
    "\n",
    "\n",
    "Area = XX.X"
   ]
  },
  {
   "cell_type": "code",
   "execution_count": 11,
   "metadata": {},
   "outputs": [
    {
     "name": "stdout",
     "output_type": "stream",
     "text": [
      "6.0 2.0 9.0\n",
      "Area = 36.0\n"
     ]
    }
   ],
   "source": [
    "x=input()\n",
    "A,B,C = x.split(\" \")\n",
    "A=float(A)\n",
    "B=float(B)\n",
    "C=float(C)\n",
    "if (A+B)>C and (A+C)>B and (B+C)>A:\n",
    "    perimeter = (A+B+C)\n",
    "    print(\"Perimetro = %0.1f\"%perimeter)\n",
    "else:\n",
    "    area = 0.5*(A+B)*C\n",
    "    print(\"Area = %0.1f\"%area)"
   ]
  },
  {
   "cell_type": "markdown",
   "metadata": {},
   "source": [
    "11.Read two nteger values (A and B). After, the program should print the message \"Sao Multiplos\" (are multiples) or \"Nao sao Multiplos\" (aren’t multiples), corresponding to the read values."
   ]
  },
  {
   "cell_type": "code",
   "execution_count": 12,
   "metadata": {},
   "outputs": [
    {
     "name": "stdout",
     "output_type": "stream",
     "text": [
      "9 2\n",
      "Nao sao Multiplos\n"
     ]
    }
   ],
   "source": [
    "x=input()\n",
    "a,b=x.split(\" \")\n",
    "a=int(a)\n",
    "b=int(b)\n",
    "if (a%b==0) or (b%a==0):\n",
    "    print(\"Sao Multiplos\")\n",
    "else:\n",
    "    print(\"Nao sao Multiplos\")"
   ]
  },
  {
   "cell_type": "code",
   "execution_count": null,
   "metadata": {},
   "outputs": [],
   "source": []
  }
 ],
 "metadata": {
  "kernelspec": {
   "display_name": "Python 3",
   "language": "python",
   "name": "python3"
  },
  "language_info": {
   "codemirror_mode": {
    "name": "ipython",
    "version": 3
   },
   "file_extension": ".py",
   "mimetype": "text/x-python",
   "name": "python",
   "nbconvert_exporter": "python",
   "pygments_lexer": "ipython3",
   "version": "3.8.3"
  }
 },
 "nbformat": 4,
 "nbformat_minor": 4
}
